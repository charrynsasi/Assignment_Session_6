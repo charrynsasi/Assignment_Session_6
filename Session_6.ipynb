{
 "cells": [
  {
   "cell_type": "markdown",
   "metadata": {},
   "source": [
    "Write a function so that the columns of the output matrix are powers of the input\n",
    "vector.\n",
    "The order of the powers is determined by the increasing boolean argument. Specifically,\n",
    "when increasing is False, the i-th output column is the input vector raised element-wise\n",
    "to the power of N - i - 1.\n",
    "HINT: Such a matrix with a geometric progression in each row is named for Alexandre-\n",
    "Theophile Vandermonde."
   ]
  },
  {
   "cell_type": "code",
   "execution_count": 11,
   "metadata": {},
   "outputs": [],
   "source": [
    "\"\"\"\n",
    "1. check whether the number of columns is passed. If not specified then a square array is returned (n = len(vct)).\n",
    "2. check the order of the power. If True, the powers increase from left to right, if False (the default) they are reversed.\n",
    "\n",
    "\"\"\"\n",
    "import numpy as np\n",
    "\n",
    "def my_func_vandermonde(vct,n=None,bln=False):\n",
    "    \n",
    "    if n==None: \n",
    "        \n",
    "        n=len(vct)\n",
    "        if bln==False:\n",
    "            return np.column_stack([vct**(n-1-i) for i in range(n)])\n",
    "        else:\n",
    "            return np.column_stack([vct**i for i in range(n)])\n",
    "    else:\n",
    "        \n",
    "        if bln==False:\n",
    "            return np.column_stack([vct**(n-1-i) for i in range(n)])\n",
    "        else:\n",
    "            return np.column_stack([vct**i for i in range(n)])"
   ]
  },
  {
   "cell_type": "code",
   "execution_count": 12,
   "metadata": {},
   "outputs": [
    {
     "data": {
      "text/plain": [
       "array([[ 64,  16,   4,   1],\n",
       "       [  1,   1,   1,   1],\n",
       "       [  8,   4,   2,   1],\n",
       "       [125,  25,   5,   1]], dtype=int32)"
      ]
     },
     "execution_count": 12,
     "metadata": {},
     "output_type": "execute_result"
    }
   ],
   "source": [
    "my_func_vandermonde(np.array([4, 1, 2, 5]))"
   ]
  },
  {
   "cell_type": "code",
   "execution_count": 13,
   "metadata": {},
   "outputs": [
    {
     "data": {
      "text/plain": [
       "array([[ 64,  16,   4,   1],\n",
       "       [  1,   1,   1,   1],\n",
       "       [  8,   4,   2,   1],\n",
       "       [125,  25,   5,   1]], dtype=int32)"
      ]
     },
     "execution_count": 13,
     "metadata": {},
     "output_type": "execute_result"
    }
   ],
   "source": [
    "my_func_vandermonde(np.array([4, 1, 2, 5]),4)"
   ]
  },
  {
   "cell_type": "code",
   "execution_count": 14,
   "metadata": {},
   "outputs": [
    {
     "data": {
      "text/plain": [
       "array([[ 64,  16,   4,   1],\n",
       "       [  1,   1,   1,   1],\n",
       "       [  8,   4,   2,   1],\n",
       "       [125,  25,   5,   1]], dtype=int32)"
      ]
     },
     "execution_count": 14,
     "metadata": {},
     "output_type": "execute_result"
    }
   ],
   "source": [
    "my_func_vandermonde(np.array([4, 1, 2, 5]),4,False)"
   ]
  },
  {
   "cell_type": "code",
   "execution_count": 15,
   "metadata": {},
   "outputs": [
    {
     "data": {
      "text/plain": [
       "array([[  1,   4,  16,  64],\n",
       "       [  1,   1,   1,   1],\n",
       "       [  1,   2,   4,   8],\n",
       "       [  1,   5,  25, 125]], dtype=int32)"
      ]
     },
     "execution_count": 15,
     "metadata": {},
     "output_type": "execute_result"
    }
   ],
   "source": [
    "my_func_vandermonde(np.array([4, 1, 2, 5]),4,True)"
   ]
  },
  {
   "cell_type": "code",
   "execution_count": null,
   "metadata": {},
   "outputs": [],
   "source": []
  }
 ],
 "metadata": {
  "kernelspec": {
   "display_name": "Python 3",
   "language": "python",
   "name": "python3"
  },
  "language_info": {
   "codemirror_mode": {
    "name": "ipython",
    "version": 3
   },
   "file_extension": ".py",
   "mimetype": "text/x-python",
   "name": "python",
   "nbconvert_exporter": "python",
   "pygments_lexer": "ipython3",
   "version": "3.7.0"
  }
 },
 "nbformat": 4,
 "nbformat_minor": 2
}
